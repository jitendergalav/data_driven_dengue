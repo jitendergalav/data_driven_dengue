{
    "cells": [
        {
            "metadata": {},
            "cell_type": "code",
            "source": "import pandas as pd",
            "execution_count": 1,
            "outputs": []
        },
        {
            "metadata": {},
            "cell_type": "code",
            "source": "\nimport types\nimport pandas as pd\nfrom botocore.client import Config\nimport ibm_boto3\n\ndef __iter__(self): return 0\n\n# @hidden_cell\n# The following code accesses a file in your IBM Cloud Object Storage. It includes your credentials.\n# You might want to remove those credentials before you share the notebook.\nclient_0356884f076147cc9076039be04f0609 = ibm_boto3.client(service_name='s3',\n    ibm_api_key_id='TYLnRgJP31XhOcc10EW_VFHluzdRiHVMNgNv7IZ7on4G',\n    ibm_auth_endpoint=\"https://iam.ng.bluemix.net/oidc/token\",\n    config=Config(signature_version='oauth'),\n    endpoint_url='https://s3-api.us-geo.objectstorage.service.networklayer.com')\n\nbody = client_0356884f076147cc9076039be04f0609.get_object(Bucket='datadrivendengue-donotdelete-pr-ufx2ggas8n8ovf',Key='Training_Data_Features.csv')['Body']\n# add missing __iter__ method, so pandas accepts body as file-like object\nif not hasattr(body, \"__iter__\"): body.__iter__ = types.MethodType( __iter__, body )\n\ndf_training_data_features = pd.read_csv(body)\n\n",
            "execution_count": 8,
            "outputs": [
                {
                    "output_type": "execute_result",
                    "execution_count": 8,
                    "data": {
                        "text/plain": "  city  year  weekofyear week_start_date   ndvi_ne   ndvi_nw   ndvi_se  \\\n0   sj  1990          18      1990-04-30  0.122600  0.103725  0.198483   \n1   sj  1990          19      1990-05-07  0.169900  0.142175  0.162357   \n2   sj  1990          20      1990-05-14  0.032250  0.172967  0.157200   \n3   sj  1990          21      1990-05-21  0.128633  0.245067  0.227557   \n4   sj  1990          22      1990-05-28  0.196200  0.262200  0.251200   \n\n    ndvi_sw  precipitation_amt_mm  reanalysis_air_temp_k  ...  \\\n0  0.177617                 12.42             297.572857  ...   \n1  0.155486                 22.82             298.211429  ...   \n2  0.170843                 34.54             298.781429  ...   \n3  0.235886                 15.36             298.987143  ...   \n4  0.247340                  7.52             299.518571  ...   \n\n   reanalysis_precip_amt_kg_per_m2  reanalysis_relative_humidity_percent  \\\n0                            32.00                             73.365714   \n1                            17.94                             77.368571   \n2                            26.10                             82.052857   \n3                            13.90                             80.337143   \n4                            12.20                             80.460000   \n\n   reanalysis_sat_precip_amt_mm  reanalysis_specific_humidity_g_per_kg  \\\n0                         12.42                              14.012857   \n1                         22.82                              15.372857   \n2                         34.54                              16.848571   \n3                         15.36                              16.672857   \n4                          7.52                              17.210000   \n\n   reanalysis_tdtr_k  station_avg_temp_c  station_diur_temp_rng_c  \\\n0           2.628571           25.442857                 6.900000   \n1           2.371429           26.714286                 6.371429   \n2           2.300000           26.714286                 6.485714   \n3           2.428571           27.471429                 6.771429   \n4           3.014286           28.942857                 9.371429   \n\n   station_max_temp_c  station_min_temp_c  station_precip_mm  \n0                29.4                20.0               16.0  \n1                31.7                22.2                8.6  \n2                32.2                22.8               41.4  \n3                33.3                23.3                4.0  \n4                35.0                23.9                5.8  \n\n[5 rows x 24 columns]",
                        "text/html": "<div>\n<style scoped>\n    .dataframe tbody tr th:only-of-type {\n        vertical-align: middle;\n    }\n\n    .dataframe tbody tr th {\n        vertical-align: top;\n    }\n\n    .dataframe thead th {\n        text-align: right;\n    }\n</style>\n<table border=\"1\" class=\"dataframe\">\n  <thead>\n    <tr style=\"text-align: right;\">\n      <th></th>\n      <th>city</th>\n      <th>year</th>\n      <th>weekofyear</th>\n      <th>week_start_date</th>\n      <th>ndvi_ne</th>\n      <th>ndvi_nw</th>\n      <th>ndvi_se</th>\n      <th>ndvi_sw</th>\n      <th>precipitation_amt_mm</th>\n      <th>reanalysis_air_temp_k</th>\n      <th>...</th>\n      <th>reanalysis_precip_amt_kg_per_m2</th>\n      <th>reanalysis_relative_humidity_percent</th>\n      <th>reanalysis_sat_precip_amt_mm</th>\n      <th>reanalysis_specific_humidity_g_per_kg</th>\n      <th>reanalysis_tdtr_k</th>\n      <th>station_avg_temp_c</th>\n      <th>station_diur_temp_rng_c</th>\n      <th>station_max_temp_c</th>\n      <th>station_min_temp_c</th>\n      <th>station_precip_mm</th>\n    </tr>\n  </thead>\n  <tbody>\n    <tr>\n      <th>0</th>\n      <td>sj</td>\n      <td>1990</td>\n      <td>18</td>\n      <td>1990-04-30</td>\n      <td>0.122600</td>\n      <td>0.103725</td>\n      <td>0.198483</td>\n      <td>0.177617</td>\n      <td>12.42</td>\n      <td>297.572857</td>\n      <td>...</td>\n      <td>32.00</td>\n      <td>73.365714</td>\n      <td>12.42</td>\n      <td>14.012857</td>\n      <td>2.628571</td>\n      <td>25.442857</td>\n      <td>6.900000</td>\n      <td>29.4</td>\n      <td>20.0</td>\n      <td>16.0</td>\n    </tr>\n    <tr>\n      <th>1</th>\n      <td>sj</td>\n      <td>1990</td>\n      <td>19</td>\n      <td>1990-05-07</td>\n      <td>0.169900</td>\n      <td>0.142175</td>\n      <td>0.162357</td>\n      <td>0.155486</td>\n      <td>22.82</td>\n      <td>298.211429</td>\n      <td>...</td>\n      <td>17.94</td>\n      <td>77.368571</td>\n      <td>22.82</td>\n      <td>15.372857</td>\n      <td>2.371429</td>\n      <td>26.714286</td>\n      <td>6.371429</td>\n      <td>31.7</td>\n      <td>22.2</td>\n      <td>8.6</td>\n    </tr>\n    <tr>\n      <th>2</th>\n      <td>sj</td>\n      <td>1990</td>\n      <td>20</td>\n      <td>1990-05-14</td>\n      <td>0.032250</td>\n      <td>0.172967</td>\n      <td>0.157200</td>\n      <td>0.170843</td>\n      <td>34.54</td>\n      <td>298.781429</td>\n      <td>...</td>\n      <td>26.10</td>\n      <td>82.052857</td>\n      <td>34.54</td>\n      <td>16.848571</td>\n      <td>2.300000</td>\n      <td>26.714286</td>\n      <td>6.485714</td>\n      <td>32.2</td>\n      <td>22.8</td>\n      <td>41.4</td>\n    </tr>\n    <tr>\n      <th>3</th>\n      <td>sj</td>\n      <td>1990</td>\n      <td>21</td>\n      <td>1990-05-21</td>\n      <td>0.128633</td>\n      <td>0.245067</td>\n      <td>0.227557</td>\n      <td>0.235886</td>\n      <td>15.36</td>\n      <td>298.987143</td>\n      <td>...</td>\n      <td>13.90</td>\n      <td>80.337143</td>\n      <td>15.36</td>\n      <td>16.672857</td>\n      <td>2.428571</td>\n      <td>27.471429</td>\n      <td>6.771429</td>\n      <td>33.3</td>\n      <td>23.3</td>\n      <td>4.0</td>\n    </tr>\n    <tr>\n      <th>4</th>\n      <td>sj</td>\n      <td>1990</td>\n      <td>22</td>\n      <td>1990-05-28</td>\n      <td>0.196200</td>\n      <td>0.262200</td>\n      <td>0.251200</td>\n      <td>0.247340</td>\n      <td>7.52</td>\n      <td>299.518571</td>\n      <td>...</td>\n      <td>12.20</td>\n      <td>80.460000</td>\n      <td>7.52</td>\n      <td>17.210000</td>\n      <td>3.014286</td>\n      <td>28.942857</td>\n      <td>9.371429</td>\n      <td>35.0</td>\n      <td>23.9</td>\n      <td>5.8</td>\n    </tr>\n  </tbody>\n</table>\n<p>5 rows \u00d7 24 columns</p>\n</div>"
                    },
                    "metadata": {}
                }
            ]
        },
        {
            "metadata": {},
            "cell_type": "code",
            "source": "\nbody = client_0356884f076147cc9076039be04f0609.get_object(Bucket='datadrivendengue-donotdelete-pr-ufx2ggas8n8ovf',Key='Training_Data_Labels.csv')['Body']\n# add missing __iter__ method, so pandas accepts body as file-like object\nif not hasattr(body, \"__iter__\"): body.__iter__ = types.MethodType( __iter__, body )\n\ndf_training_data_labels = pd.read_csv(body)\ndf_training_data_labels.head()\n",
            "execution_count": 9,
            "outputs": [
                {
                    "output_type": "execute_result",
                    "execution_count": 9,
                    "data": {
                        "text/plain": "  city  year  weekofyear  total_cases\n0   sj  1990          18            4\n1   sj  1990          19            5\n2   sj  1990          20            4\n3   sj  1990          21            3\n4   sj  1990          22            6",
                        "text/html": "<div>\n<style scoped>\n    .dataframe tbody tr th:only-of-type {\n        vertical-align: middle;\n    }\n\n    .dataframe tbody tr th {\n        vertical-align: top;\n    }\n\n    .dataframe thead th {\n        text-align: right;\n    }\n</style>\n<table border=\"1\" class=\"dataframe\">\n  <thead>\n    <tr style=\"text-align: right;\">\n      <th></th>\n      <th>city</th>\n      <th>year</th>\n      <th>weekofyear</th>\n      <th>total_cases</th>\n    </tr>\n  </thead>\n  <tbody>\n    <tr>\n      <th>0</th>\n      <td>sj</td>\n      <td>1990</td>\n      <td>18</td>\n      <td>4</td>\n    </tr>\n    <tr>\n      <th>1</th>\n      <td>sj</td>\n      <td>1990</td>\n      <td>19</td>\n      <td>5</td>\n    </tr>\n    <tr>\n      <th>2</th>\n      <td>sj</td>\n      <td>1990</td>\n      <td>20</td>\n      <td>4</td>\n    </tr>\n    <tr>\n      <th>3</th>\n      <td>sj</td>\n      <td>1990</td>\n      <td>21</td>\n      <td>3</td>\n    </tr>\n    <tr>\n      <th>4</th>\n      <td>sj</td>\n      <td>1990</td>\n      <td>22</td>\n      <td>6</td>\n    </tr>\n  </tbody>\n</table>\n</div>"
                    },
                    "metadata": {}
                }
            ]
        },
        {
            "metadata": {},
            "cell_type": "code",
            "source": "\nbody = client_0356884f076147cc9076039be04f0609.get_object(Bucket='datadrivendengue-donotdelete-pr-ufx2ggas8n8ovf',Key='Test_Data_Features.csv')['Body']\n# add missing __iter__ method, so pandas accepts body as file-like object\nif not hasattr(body, \"__iter__\"): body.__iter__ = types.MethodType( __iter__, body )\n\ndf_test_data_features = pd.read_csv(body)\n\n",
            "execution_count": 10,
            "outputs": [
                {
                    "output_type": "execute_result",
                    "execution_count": 10,
                    "data": {
                        "text/plain": "  city  year  weekofyear week_start_date  ndvi_ne   ndvi_nw   ndvi_se  \\\n0   sj  2008          18      2008-04-29  -0.0189 -0.018900  0.102729   \n1   sj  2008          19      2008-05-06  -0.0180 -0.012400  0.082043   \n2   sj  2008          20      2008-05-13  -0.0015       NaN  0.151083   \n3   sj  2008          21      2008-05-20      NaN -0.019867  0.124329   \n4   sj  2008          22      2008-05-27   0.0568  0.039833  0.062267   \n\n    ndvi_sw  precipitation_amt_mm  reanalysis_air_temp_k  ...  \\\n0  0.091200                 78.60             298.492857  ...   \n1  0.072314                 12.56             298.475714  ...   \n2  0.091529                  3.66             299.455714  ...   \n3  0.125686                  0.00             299.690000  ...   \n4  0.075914                  0.76             299.780000  ...   \n\n   reanalysis_precip_amt_kg_per_m2  reanalysis_relative_humidity_percent  \\\n0                            25.37                             78.781429   \n1                            21.83                             78.230000   \n2                             4.12                             78.270000   \n3                             2.20                             73.015714   \n4                             4.36                             74.084286   \n\n   reanalysis_sat_precip_amt_mm  reanalysis_specific_humidity_g_per_kg  \\\n0                         78.60                              15.918571   \n1                         12.56                              15.791429   \n2                          3.66                              16.674286   \n3                          0.00                              15.775714   \n4                          0.76                              16.137143   \n\n   reanalysis_tdtr_k  station_avg_temp_c  station_diur_temp_rng_c  \\\n0           3.128571           26.528571                 7.057143   \n1           2.571429           26.071429                 5.557143   \n2           4.428571           27.928571                 7.785714   \n3           4.342857           28.057143                 6.271429   \n4           3.542857           27.614286                 7.085714   \n\n   station_max_temp_c  station_min_temp_c  station_precip_mm  \n0                33.3                21.7               75.2  \n1                30.0                22.2               34.3  \n2                32.8                22.8                3.0  \n3                33.3                24.4                0.3  \n4                33.3                23.3               84.1  \n\n[5 rows x 24 columns]",
                        "text/html": "<div>\n<style scoped>\n    .dataframe tbody tr th:only-of-type {\n        vertical-align: middle;\n    }\n\n    .dataframe tbody tr th {\n        vertical-align: top;\n    }\n\n    .dataframe thead th {\n        text-align: right;\n    }\n</style>\n<table border=\"1\" class=\"dataframe\">\n  <thead>\n    <tr style=\"text-align: right;\">\n      <th></th>\n      <th>city</th>\n      <th>year</th>\n      <th>weekofyear</th>\n      <th>week_start_date</th>\n      <th>ndvi_ne</th>\n      <th>ndvi_nw</th>\n      <th>ndvi_se</th>\n      <th>ndvi_sw</th>\n      <th>precipitation_amt_mm</th>\n      <th>reanalysis_air_temp_k</th>\n      <th>...</th>\n      <th>reanalysis_precip_amt_kg_per_m2</th>\n      <th>reanalysis_relative_humidity_percent</th>\n      <th>reanalysis_sat_precip_amt_mm</th>\n      <th>reanalysis_specific_humidity_g_per_kg</th>\n      <th>reanalysis_tdtr_k</th>\n      <th>station_avg_temp_c</th>\n      <th>station_diur_temp_rng_c</th>\n      <th>station_max_temp_c</th>\n      <th>station_min_temp_c</th>\n      <th>station_precip_mm</th>\n    </tr>\n  </thead>\n  <tbody>\n    <tr>\n      <th>0</th>\n      <td>sj</td>\n      <td>2008</td>\n      <td>18</td>\n      <td>2008-04-29</td>\n      <td>-0.0189</td>\n      <td>-0.018900</td>\n      <td>0.102729</td>\n      <td>0.091200</td>\n      <td>78.60</td>\n      <td>298.492857</td>\n      <td>...</td>\n      <td>25.37</td>\n      <td>78.781429</td>\n      <td>78.60</td>\n      <td>15.918571</td>\n      <td>3.128571</td>\n      <td>26.528571</td>\n      <td>7.057143</td>\n      <td>33.3</td>\n      <td>21.7</td>\n      <td>75.2</td>\n    </tr>\n    <tr>\n      <th>1</th>\n      <td>sj</td>\n      <td>2008</td>\n      <td>19</td>\n      <td>2008-05-06</td>\n      <td>-0.0180</td>\n      <td>-0.012400</td>\n      <td>0.082043</td>\n      <td>0.072314</td>\n      <td>12.56</td>\n      <td>298.475714</td>\n      <td>...</td>\n      <td>21.83</td>\n      <td>78.230000</td>\n      <td>12.56</td>\n      <td>15.791429</td>\n      <td>2.571429</td>\n      <td>26.071429</td>\n      <td>5.557143</td>\n      <td>30.0</td>\n      <td>22.2</td>\n      <td>34.3</td>\n    </tr>\n    <tr>\n      <th>2</th>\n      <td>sj</td>\n      <td>2008</td>\n      <td>20</td>\n      <td>2008-05-13</td>\n      <td>-0.0015</td>\n      <td>NaN</td>\n      <td>0.151083</td>\n      <td>0.091529</td>\n      <td>3.66</td>\n      <td>299.455714</td>\n      <td>...</td>\n      <td>4.12</td>\n      <td>78.270000</td>\n      <td>3.66</td>\n      <td>16.674286</td>\n      <td>4.428571</td>\n      <td>27.928571</td>\n      <td>7.785714</td>\n      <td>32.8</td>\n      <td>22.8</td>\n      <td>3.0</td>\n    </tr>\n    <tr>\n      <th>3</th>\n      <td>sj</td>\n      <td>2008</td>\n      <td>21</td>\n      <td>2008-05-20</td>\n      <td>NaN</td>\n      <td>-0.019867</td>\n      <td>0.124329</td>\n      <td>0.125686</td>\n      <td>0.00</td>\n      <td>299.690000</td>\n      <td>...</td>\n      <td>2.20</td>\n      <td>73.015714</td>\n      <td>0.00</td>\n      <td>15.775714</td>\n      <td>4.342857</td>\n      <td>28.057143</td>\n      <td>6.271429</td>\n      <td>33.3</td>\n      <td>24.4</td>\n      <td>0.3</td>\n    </tr>\n    <tr>\n      <th>4</th>\n      <td>sj</td>\n      <td>2008</td>\n      <td>22</td>\n      <td>2008-05-27</td>\n      <td>0.0568</td>\n      <td>0.039833</td>\n      <td>0.062267</td>\n      <td>0.075914</td>\n      <td>0.76</td>\n      <td>299.780000</td>\n      <td>...</td>\n      <td>4.36</td>\n      <td>74.084286</td>\n      <td>0.76</td>\n      <td>16.137143</td>\n      <td>3.542857</td>\n      <td>27.614286</td>\n      <td>7.085714</td>\n      <td>33.3</td>\n      <td>23.3</td>\n      <td>84.1</td>\n    </tr>\n  </tbody>\n</table>\n<p>5 rows \u00d7 24 columns</p>\n</div>"
                    },
                    "metadata": {}
                }
            ]
        },
        {
            "metadata": {},
            "cell_type": "code",
            "source": "\nbody = client_0356884f076147cc9076039be04f0609.get_object(Bucket='datadrivendengue-donotdelete-pr-ufx2ggas8n8ovf',Key='Submission_Format.csv')['Body']\n# add missing __iter__ method, so pandas accepts body as file-like object\nif not hasattr(body, \"__iter__\"): body.__iter__ = types.MethodType( __iter__, body )\n\ndf_submission_format = pd.read_csv(body)\n\n",
            "execution_count": 11,
            "outputs": [
                {
                    "output_type": "execute_result",
                    "execution_count": 11,
                    "data": {
                        "text/plain": "  city  year  weekofyear  total_cases\n0   sj  2008          18            0\n1   sj  2008          19            0\n2   sj  2008          20            0\n3   sj  2008          21            0\n4   sj  2008          22            0",
                        "text/html": "<div>\n<style scoped>\n    .dataframe tbody tr th:only-of-type {\n        vertical-align: middle;\n    }\n\n    .dataframe tbody tr th {\n        vertical-align: top;\n    }\n\n    .dataframe thead th {\n        text-align: right;\n    }\n</style>\n<table border=\"1\" class=\"dataframe\">\n  <thead>\n    <tr style=\"text-align: right;\">\n      <th></th>\n      <th>city</th>\n      <th>year</th>\n      <th>weekofyear</th>\n      <th>total_cases</th>\n    </tr>\n  </thead>\n  <tbody>\n    <tr>\n      <th>0</th>\n      <td>sj</td>\n      <td>2008</td>\n      <td>18</td>\n      <td>0</td>\n    </tr>\n    <tr>\n      <th>1</th>\n      <td>sj</td>\n      <td>2008</td>\n      <td>19</td>\n      <td>0</td>\n    </tr>\n    <tr>\n      <th>2</th>\n      <td>sj</td>\n      <td>2008</td>\n      <td>20</td>\n      <td>0</td>\n    </tr>\n    <tr>\n      <th>3</th>\n      <td>sj</td>\n      <td>2008</td>\n      <td>21</td>\n      <td>0</td>\n    </tr>\n    <tr>\n      <th>4</th>\n      <td>sj</td>\n      <td>2008</td>\n      <td>22</td>\n      <td>0</td>\n    </tr>\n  </tbody>\n</table>\n</div>"
                    },
                    "metadata": {}
                }
            ]
        },
        {
            "metadata": {},
            "cell_type": "code",
            "source": "",
            "execution_count": null,
            "outputs": []
        }
    ],
    "metadata": {
        "kernelspec": {
            "name": "python3",
            "display_name": "Python 3.6",
            "language": "python"
        },
        "language_info": {
            "name": "python",
            "version": "3.6.9",
            "mimetype": "text/x-python",
            "codemirror_mode": {
                "name": "ipython",
                "version": 3
            },
            "pygments_lexer": "ipython3",
            "nbconvert_exporter": "python",
            "file_extension": ".py"
        }
    },
    "nbformat": 4,
    "nbformat_minor": 1
}